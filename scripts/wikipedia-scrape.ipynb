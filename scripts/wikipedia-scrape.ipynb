{
 "cells": [
  {
   "cell_type": "code",
   "execution_count": 4,
   "id": "7a1d9e44-176a-49f0-9a41-ee81f3c28371",
   "metadata": {},
   "outputs": [],
   "source": [
    "import requests as rq\n",
    "from bs4 import BeautifulSoup as bs\n",
    "\n",
    "species = \"Accipiter badius\"\n",
    "wikipedia_base = \"https://en.wikipedia.org/wiki/\"\n",
    "article = wikipedia_base + species\n",
    "html_doc = rq.get(article).text\n",
    "\n",
    "soup = bs(html_doc, 'html.parser')"
   ]
  },
  {
   "cell_type": "code",
   "execution_count": 20,
   "id": "6d4dc49a-73b5-4259-b3c9-4376bba58d04",
   "metadata": {},
   "outputs": [
    {
     "name": "stdout",
     "output_type": "stream",
     "text": [
      "1\n",
      "49\n",
      "703\n",
      "724\n",
      "34\n",
      "1411\n",
      "775\n",
      "1131\n",
      "511\n",
      "560\n",
      "138\n",
      "151\n"
     ]
    }
   ],
   "source": [
    "paragraph = soup.find_all(\"p\")\n",
    "for i in range(len(paragraph)):\n",
    "    print(len(paragraph[i].get_text()))"
   ]
  }
 ],
 "metadata": {
  "kernelspec": {
   "display_name": "Python 3 (ipykernel)",
   "language": "python",
   "name": "python3"
  },
  "language_info": {
   "codemirror_mode": {
    "name": "ipython",
    "version": 3
   },
   "file_extension": ".py",
   "mimetype": "text/x-python",
   "name": "python",
   "nbconvert_exporter": "python",
   "pygments_lexer": "ipython3",
   "version": "3.9.6"
  }
 },
 "nbformat": 4,
 "nbformat_minor": 5
}
