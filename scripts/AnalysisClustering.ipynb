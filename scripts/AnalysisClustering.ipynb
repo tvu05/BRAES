{
 "cells": [
  {
   "cell_type": "code",
   "execution_count": null,
   "id": "fc4e36fe",
   "metadata": {},
   "outputs": [],
   "source": []
  },
  {
   "cell_type": "markdown",
   "id": "d80debb7",
   "metadata": {},
   "source": [
    "This folder is to analyze the list of bird species by clustering. \n",
    "The result will be a list of birds to move forward with"
   ]
  },
  {
   "cell_type": "code",
   "execution_count": null,
   "id": "5a5059e8",
   "metadata": {},
   "outputs": [],
   "source": [
    "#clustering\n",
    "features = df[[\"NumReferences\", \"NumParagraphs\", \"NumWords\"]]  #columns used for clustering\n",
    "kmeans = KMeans(n_clusters=2, random_state=0).fit(features)  #kmeans clustering\n",
    "df['Cluster'] = kmeans.labels_    #creates new cluster column in df \n",
    "\n",
    "print(df)\n",
    "\n",
    "\n",
    "\n",
    "print(\"\\n \\n \\n\") \n",
    "\n",
    "plt.figure(figsize=(10, 6))\n",
    "plt.scatter(df['NumReferences'], df['NumParagraphs'], c=df['Cluster'], cmap='viridis', marker='o')\n",
    "plt.xlabel('Number of References')\n",
    "plt.ylabel('Number of Paragraphs')\n",
    "plt.title('Clustering of Bird Species based on References and Paragraphs')\n",
    "plt.show()\n",
    "\n",
    "for cluster_num in df['Cluster'].unique():\n",
    "    plt.hist(df[df['Cluster'] == cluster_num]['NumWords'], bins=10, edgecolor='black', alpha=0.7)\n",
    "    plt.title(f'Histogram of Cluster {cluster_num} - NumWords')\n",
    "    plt.xlabel('Number of Words')\n",
    "    plt.ylabel('Frequency')\n",
    "    plt.show()\n",
    "    \n",
    "    \n",
    "print(\"end\")"
   ]
  }
 ],
 "metadata": {
  "kernelspec": {
   "display_name": "Python 3 (ipykernel)",
   "language": "python",
   "name": "python3"
  },
  "language_info": {
   "codemirror_mode": {
    "name": "ipython",
    "version": 3
   },
   "file_extension": ".py",
   "mimetype": "text/x-python",
   "name": "python",
   "nbconvert_exporter": "python",
   "pygments_lexer": "ipython3",
   "version": "3.11.5"
  }
 },
 "nbformat": 4,
 "nbformat_minor": 5
}
