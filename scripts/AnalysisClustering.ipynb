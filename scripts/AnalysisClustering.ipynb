{
 "cells": [
  {
   "cell_type": "markdown",
   "id": "9410a708",
   "metadata": {},
   "source": [
    "This folder is to analyze the list of bird species by clustering. \n",
    "The result will be a list of birds to move forward with"
   ]
  },
  {
   "cell_type": "code",
   "execution_count": 1,
   "id": "27c71752",
   "metadata": {},
   "outputs": [],
   "source": [
    "import requests as rq\n",
    "from bs4 import BeautifulSoup as bs\n",
    "import pandas as pd \n",
    "from sklearn.cluster import KMeans\n",
    "import matplotlib.pyplot as plt\n",
    "import numpy as np\n",
    "from requests.exceptions import RequestException\n",
    "import random\n"
   ]
  },
  {
   "cell_type": "code",
   "execution_count": 3,
   "id": "ebd033b0",
   "metadata": {},
   "outputs": [
    {
     "name": "stdout",
     "output_type": "stream",
     "text": [
      "0.052363598850944326\n"
     ]
    }
   ],
   "source": [
    "radSeed = random.seed(123)  \n",
    "print(random.random())\n"
   ]
  },
  {
   "cell_type": "code",
   "execution_count": 6,
   "id": "8da50ae3",
   "metadata": {},
   "outputs": [
    {
     "name": "stdout",
     "output_type": "stream",
     "text": [
      "   Unnamed: 0                  SpeciesName  NumReferences  NumChar  NumWords  \\\n",
      "0           0             Pipreola jucunda              3     2142       346   \n",
      "1           1         Pipreola lubomirskii              3     1854       299   \n",
      "2           2             Pipreola pulchra              3     1607       270   \n",
      "3           3           Pipreola riefferii              3     1653       274   \n",
      "4           5            Pipreola whitelyi              3     2343       380   \n",
      "5           6  Porphyrolaema porphyrolaema             12     7519      1184   \n",
      "6           7               Procnias albus              6     1905       319   \n",
      "7           8             Procnias averano              6     3977       645   \n",
      "8           9          Procnias nudicollis              7     5634       882   \n",
      "\n",
      "   Error  \n",
      "0    200  \n",
      "1    200  \n",
      "2    200  \n",
      "3    200  \n",
      "4    200  \n",
      "5    200  \n",
      "6    200  \n",
      "7    200  \n",
      "8    200  \n"
     ]
    }
   ],
   "source": [
    "subsetDF = pd.read_csv('../data/subsetSpecies.csv')\n",
    "print(subsetDF)"
   ]
  },
  {
   "cell_type": "code",
   "execution_count": 8,
   "id": "a720dafc",
   "metadata": {},
   "outputs": [
    {
     "name": "stderr",
     "output_type": "stream",
     "text": [
      "C:\\Users\\thien\\anaconda3\\Lib\\site-packages\\sklearn\\cluster\\_kmeans.py:1412: FutureWarning: The default value of `n_init` will change from 10 to 'auto' in 1.4. Set the value of `n_init` explicitly to suppress the warning\n",
      "  super()._check_params_vs_input(X, default_n_init=10)\n",
      "C:\\Users\\thien\\anaconda3\\Lib\\site-packages\\sklearn\\cluster\\_kmeans.py:1436: UserWarning: KMeans is known to have a memory leak on Windows with MKL, when there are less chunks than available threads. You can avoid it by setting the environment variable OMP_NUM_THREADS=1.\n",
      "  warnings.warn(\n"
     ]
    },
    {
     "name": "stdout",
     "output_type": "stream",
     "text": [
      "   Unnamed: 0                  SpeciesName  NumReferences  NumChar  NumWords  \\\n",
      "0           0             Pipreola jucunda              3     2142       346   \n",
      "1           1         Pipreola lubomirskii              3     1854       299   \n",
      "2           2             Pipreola pulchra              3     1607       270   \n",
      "3           3           Pipreola riefferii              3     1653       274   \n",
      "4           5            Pipreola whitelyi              3     2343       380   \n",
      "5           6  Porphyrolaema porphyrolaema             12     7519      1184   \n",
      "6           7               Procnias albus              6     1905       319   \n",
      "7           8             Procnias averano              6     3977       645   \n",
      "8           9          Procnias nudicollis              7     5634       882   \n",
      "\n",
      "   Error  Cluster  \n",
      "0    200        0  \n",
      "1    200        0  \n",
      "2    200        0  \n",
      "3    200        0  \n",
      "4    200        0  \n",
      "5    200        1  \n",
      "6    200        0  \n",
      "7    200        0  \n",
      "8    200        1  \n",
      "\n",
      " \n",
      " \n",
      "\n"
     ]
    }
   ],
   "source": [
    "#clustering\n",
    "features = subsetDF[[\"NumReferences\", \"NumChar\", \"NumWords\"]]  #columns used for clustering\n",
    "kmeans = KMeans(n_clusters=2, random_state=0).fit(features)  #kmeans clustering\n",
    "#kmeans = KMeans(n_clusters=3, random_state=radSeed)\n",
    "#i am not sure how to use the seed here\n",
    "subsetDF['Cluster'] = kmeans.labels_    #creates new cluster column in df \n",
    "\n",
    "print(subsetDF)\n",
    "\n",
    "\n",
    "\n",
    "print(\"\\n \\n \\n\") \n",
    "\n"
   ]
  },
  {
   "cell_type": "code",
   "execution_count": null,
   "id": "f1e4fe50",
   "metadata": {},
   "outputs": [],
   "source": [
    "plt.figure(figsize=(10, 6))\n",
    "plt.scatter(df['NumReferences'], df['NumParagraphs'], c=df['Cluster'], cmap='viridis', marker='o')\n",
    "plt.xlabel('Number of References')\n",
    "plt.ylabel('Number of Paragraphs')\n",
    "plt.title('Clustering of Bird Species based on References and Paragraphs')\n",
    "plt.show()\n",
    "\n",
    "for cluster_num in df['Cluster'].unique():\n",
    "    plt.hist(df[df['Cluster'] == cluster_num]['NumWords'], bins=10, edgecolor='black', alpha=0.7)\n",
    "    plt.title(f'Histogram of Cluster {cluster_num} - NumWords')\n",
    "    plt.xlabel('Number of Words')\n",
    "    plt.ylabel('Frequency')\n",
    "    plt.show()\n",
    "    \n",
    "    \n",
    "print(\"end\")"
   ]
  }
 ],
 "metadata": {
  "kernelspec": {
   "display_name": "Python 3 (ipykernel)",
   "language": "python",
   "name": "python3"
  },
  "language_info": {
   "codemirror_mode": {
    "name": "ipython",
    "version": 3
   },
   "file_extension": ".py",
   "mimetype": "text/x-python",
   "name": "python",
   "nbconvert_exporter": "python",
   "pygments_lexer": "ipython3",
   "version": "3.11.5"
  }
 },
 "nbformat": 4,
 "nbformat_minor": 5
}
