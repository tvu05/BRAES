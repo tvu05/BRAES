{
 "cells": [
  {
   "cell_type": "markdown",
   "id": "0afa6d33",
   "metadata": {},
   "source": [
    "This folder is to clean the data. \n",
    "Only run this once, as it takes quite a while to run the whole excel sheet. Run it when the excel sheet has been updated/edited. \n"
   ]
  },
  {
   "cell_type": "markdown",
   "id": "b822122d",
   "metadata": {},
   "source": [
    "This first cell reads the excel sheet "
   ]
  },
  {
   "cell_type": "code",
   "execution_count": 1,
   "id": "a657f7d7",
   "metadata": {},
   "outputs": [
    {
     "name": "stdout",
     "output_type": "stream",
     "text": [
      "C:\\Users\\thien\\Documents\\BRAES\\scripts\n",
      "                Species1\n",
      "0  Accipiter albogularis\n",
      "1       Accipiter badius\n",
      "2      Accipiter bicolor\n",
      "3   Accipiter brachyurus\n",
      "4     Accipiter brevipes\n",
      "done\n"
     ]
    }
   ],
   "source": [
    "#Convevrsion script to read from excel sheet \n",
    "\n",
    "import pandas as pd\n",
    "import os\n",
    "#print(os.getcwd())\n",
    "\n",
    "\n",
    "\n",
    "import pandas as pd\n",
    "path = \"../data/Chapter_2_PhD_data_final.xlsx\"\n",
    "sheet = \"Core Land birds\"\n",
    "df = pd.read_excel(path, sheet_name = sheet, usecols = \"A\")\n",
    "print(df.head())\n",
    "\n",
    "print(\"done\")\n",
    "\n",
    "#kmeans in R to cluster \n",
    "#put it in a historgram to visualize the cluster\n",
    "#add an error column that will have a boolean value so we can go back to it for errors"
   ]
  },
  {
   "cell_type": "markdown",
   "id": "aac2cf2b",
   "metadata": {},
   "source": [
    "This cell converts the data from excel into a csv "
   ]
  },
  {
   "cell_type": "code",
   "execution_count": 3,
   "id": "10d1197e",
   "metadata": {},
   "outputs": [],
   "source": [
    "\n",
    "df.to_csv(\"../data/speciesList.csv\")\n"
   ]
  }
 ],
 "metadata": {
  "kernelspec": {
   "display_name": "Python 3 (ipykernel)",
   "language": "python",
   "name": "python3"
  },
  "language_info": {
   "codemirror_mode": {
    "name": "ipython",
    "version": 3
   },
   "file_extension": ".py",
   "mimetype": "text/x-python",
   "name": "python",
   "nbconvert_exporter": "python",
   "pygments_lexer": "ipython3",
   "version": "3.11.5"
  }
 },
 "nbformat": 4,
 "nbformat_minor": 5
}
