{
 "cells": [
  {
   "cell_type": "markdown",
   "id": "9410a708",
   "metadata": {},
   "source": [
    "This folder is to analyze the list of bird species by clustering. \n",
    "The result will be a list of birds to move forward with"
   ]
  },
  {
   "cell_type": "code",
   "execution_count": 6,
   "id": "27c71752",
   "metadata": {},
   "outputs": [],
   "source": [
    "import requests as rq\n",
    "from bs4 import BeautifulSoup as bs\n",
    "import pandas as pd \n",
    "from sklearn.cluster import KMeans\n",
    "import matplotlib.pyplot as plt\n",
    "import numpy as np\n",
    "from requests.exceptions import RequestException\n",
    "import random\n"
   ]
  },
  {
   "cell_type": "code",
   "execution_count": 15,
   "id": "ebd033b0",
   "metadata": {},
   "outputs": [
    {
     "name": "stdout",
     "output_type": "stream",
     "text": [
      "0.052363598850944326\n"
     ]
    }
   ],
   "source": [
    "radSeed = random.seed(123)  \n",
    "print(random.random())\n"
   ]
  },
  {
   "cell_type": "code",
   "execution_count": 13,
   "id": "53167be2",
   "metadata": {},
   "outputs": [
    {
     "ename": "NameError",
     "evalue": "name 'df' is not defined",
     "output_type": "error",
     "traceback": [
      "\u001b[1;31m---------------------------------------------------------------------------\u001b[0m",
      "\u001b[1;31mNameError\u001b[0m                                 Traceback (most recent call last)",
      "Cell \u001b[1;32mIn[13], line 2\u001b[0m\n\u001b[0;32m      1\u001b[0m \u001b[38;5;66;03m#clustering\u001b[39;00m\n\u001b[1;32m----> 2\u001b[0m features \u001b[38;5;241m=\u001b[39m df[[\u001b[38;5;124m\"\u001b[39m\u001b[38;5;124mNumReferences\u001b[39m\u001b[38;5;124m\"\u001b[39m, \u001b[38;5;124m\"\u001b[39m\u001b[38;5;124mNumChar\u001b[39m\u001b[38;5;124m\"\u001b[39m, \u001b[38;5;124m\"\u001b[39m\u001b[38;5;124mNumWords\u001b[39m\u001b[38;5;124m\"\u001b[39m]]  \u001b[38;5;66;03m#columns used for clustering\u001b[39;00m\n\u001b[0;32m      3\u001b[0m kmeans \u001b[38;5;241m=\u001b[39m KMeans(n_clusters\u001b[38;5;241m=\u001b[39m\u001b[38;5;241m2\u001b[39m, random_state\u001b[38;5;241m=\u001b[39m\u001b[38;5;241m0\u001b[39m)\u001b[38;5;241m.\u001b[39mfit(features)  \u001b[38;5;66;03m#kmeans clustering\u001b[39;00m\n\u001b[0;32m      4\u001b[0m df[\u001b[38;5;124m'\u001b[39m\u001b[38;5;124mCluster\u001b[39m\u001b[38;5;124m'\u001b[39m] \u001b[38;5;241m=\u001b[39m kmeans\u001b[38;5;241m.\u001b[39mlabels_    \u001b[38;5;66;03m#creates new cluster column in df \u001b[39;00m\n",
      "\u001b[1;31mNameError\u001b[0m: name 'df' is not defined"
     ]
    }
   ],
   "source": [
    "\n",
    "\n",
    "\n",
    "#clustering\n",
    "features = df[[\"NumReferences\", \"NumChar\", \"NumWords\"]]  #columns used for clustering\n",
    "kmeans = KMeans(n_clusters=2, random_state=0).fit(features)  #kmeans clustering\n",
    "#kmeans = KMeans(n_clusters=3, random_state=radSeed)\n",
    "#i am not sure how to use the seed here\n",
    "df['Cluster'] = kmeans.labels_    #creates new cluster column in df \n",
    "\n",
    "print(df)\n",
    "\n",
    "\n",
    "\n",
    "print(\"\\n \\n \\n\") \n",
    "\n",
    "plt.figure(figsize=(10, 6))\n",
    "plt.scatter(df['NumReferences'], df['NumParagraphs'], c=df['Cluster'], cmap='viridis', marker='o')\n",
    "plt.xlabel('Number of References')\n",
    "plt.ylabel('Number of Paragraphs')\n",
    "plt.title('Clustering of Bird Species based on References and Paragraphs')\n",
    "plt.show()\n",
    "\n",
    "for cluster_num in df['Cluster'].unique():\n",
    "    plt.hist(df[df['Cluster'] == cluster_num]['NumWords'], bins=10, edgecolor='black', alpha=0.7)\n",
    "    plt.title(f'Histogram of Cluster {cluster_num} - NumWords')\n",
    "    plt.xlabel('Number of Words')\n",
    "    plt.ylabel('Frequency')\n",
    "    plt.show()\n",
    "    \n",
    "    \n",
    "print(\"end\")"
   ]
  },
  {
   "cell_type": "code",
   "execution_count": null,
   "id": "a720dafc",
   "metadata": {},
   "outputs": [],
   "source": []
  }
 ],
 "metadata": {
  "kernelspec": {
   "display_name": "Python 3 (ipykernel)",
   "language": "python",
   "name": "python3"
  },
  "language_info": {
   "codemirror_mode": {
    "name": "ipython",
    "version": 3
   },
   "file_extension": ".py",
   "mimetype": "text/x-python",
   "name": "python",
   "nbconvert_exporter": "python",
   "pygments_lexer": "ipython3",
   "version": "3.11.5"
  }
 },
 "nbformat": 4,
 "nbformat_minor": 5
}
