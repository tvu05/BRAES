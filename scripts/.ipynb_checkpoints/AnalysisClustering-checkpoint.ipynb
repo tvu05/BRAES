{
 "cells": [
  {
   "cell_type": "markdown",
   "id": "9410a708",
   "metadata": {},
   "source": [
    "This folder is to analyze the list of bird species by clustering. \n",
    "The result will be a list of birds to move forward with"
   ]
  },
  {
   "cell_type": "code",
   "execution_count": 2,
   "id": "27c71752",
   "metadata": {},
   "outputs": [],
   "source": [
    "import requests as rq\n",
    "from bs4 import BeautifulSoup as bs\n",
    "import pandas as pd \n",
    "from sklearn.cluster import KMeans\n",
    "import matplotlib.pyplot as plt\n",
    "import numpy as np\n",
    "from requests.exceptions import RequestException\n",
    "import random\n"
   ]
  },
  {
   "cell_type": "code",
   "execution_count": 2,
   "id": "ebd033b0",
   "metadata": {},
   "outputs": [
    {
     "name": "stdout",
     "output_type": "stream",
     "text": [
      "0.052363598850944326\n"
     ]
    }
   ],
   "source": [
    "radSeed = random.seed(123)  \n",
    "print(random.random())\n"
   ]
  },
  {
   "cell_type": "code",
   "execution_count": 3,
   "id": "8da50ae3",
   "metadata": {},
   "outputs": [
    {
     "name": "stdout",
     "output_type": "stream",
     "text": [
      "      Unnamed: 0            SpeciesName  NumReferences  NumChar  NumWords  \\\n",
      "0              0  Accipiter albogularis              2      359        56   \n",
      "1              1       Accipiter badius             35     6188      1023   \n",
      "2              2      Accipiter bicolor             17     5405       863   \n",
      "3              3   Accipiter brachyurus              3     1646       278   \n",
      "4              4     Accipiter brevipes             14     4300       716   \n",
      "...          ...                    ...            ...      ...       ...   \n",
      "8152        8369      Trogon personatus              4     1177       195   \n",
      "8153        8370           Trogon rufus              7     2517       405   \n",
      "8154        8371       Trogon surrucura              6     3201       534   \n",
      "8155        8372       Trogon violaceus             13     4426       711   \n",
      "8156        8373         Trogon viridis             17     4900       787   \n",
      "\n",
      "      Error  \n",
      "0       200  \n",
      "1       200  \n",
      "2       200  \n",
      "3       200  \n",
      "4       200  \n",
      "...     ...  \n",
      "8152    200  \n",
      "8153    200  \n",
      "8154    200  \n",
      "8155    200  \n",
      "8156    200  \n",
      "\n",
      "[8157 rows x 6 columns]\n"
     ]
    },
    {
     "data": {
      "text/html": [
       "<div>\n",
       "<style scoped>\n",
       "    .dataframe tbody tr th:only-of-type {\n",
       "        vertical-align: middle;\n",
       "    }\n",
       "\n",
       "    .dataframe tbody tr th {\n",
       "        vertical-align: top;\n",
       "    }\n",
       "\n",
       "    .dataframe thead th {\n",
       "        text-align: right;\n",
       "    }\n",
       "</style>\n",
       "<table border=\"1\" class=\"dataframe\">\n",
       "  <thead>\n",
       "    <tr style=\"text-align: right;\">\n",
       "      <th></th>\n",
       "      <th>Unnamed: 0</th>\n",
       "      <th>SpeciesName</th>\n",
       "      <th>NumReferences</th>\n",
       "      <th>NumChar</th>\n",
       "      <th>NumWords</th>\n",
       "      <th>Error</th>\n",
       "    </tr>\n",
       "  </thead>\n",
       "  <tbody>\n",
       "    <tr>\n",
       "      <th>0</th>\n",
       "      <td>0</td>\n",
       "      <td>Accipiter albogularis</td>\n",
       "      <td>2</td>\n",
       "      <td>359</td>\n",
       "      <td>56</td>\n",
       "      <td>200</td>\n",
       "    </tr>\n",
       "    <tr>\n",
       "      <th>1</th>\n",
       "      <td>1</td>\n",
       "      <td>Accipiter badius</td>\n",
       "      <td>35</td>\n",
       "      <td>6188</td>\n",
       "      <td>1023</td>\n",
       "      <td>200</td>\n",
       "    </tr>\n",
       "    <tr>\n",
       "      <th>2</th>\n",
       "      <td>2</td>\n",
       "      <td>Accipiter bicolor</td>\n",
       "      <td>17</td>\n",
       "      <td>5405</td>\n",
       "      <td>863</td>\n",
       "      <td>200</td>\n",
       "    </tr>\n",
       "    <tr>\n",
       "      <th>3</th>\n",
       "      <td>3</td>\n",
       "      <td>Accipiter brachyurus</td>\n",
       "      <td>3</td>\n",
       "      <td>1646</td>\n",
       "      <td>278</td>\n",
       "      <td>200</td>\n",
       "    </tr>\n",
       "    <tr>\n",
       "      <th>4</th>\n",
       "      <td>4</td>\n",
       "      <td>Accipiter brevipes</td>\n",
       "      <td>14</td>\n",
       "      <td>4300</td>\n",
       "      <td>716</td>\n",
       "      <td>200</td>\n",
       "    </tr>\n",
       "  </tbody>\n",
       "</table>\n",
       "</div>"
      ],
      "text/plain": [
       "   Unnamed: 0            SpeciesName  NumReferences  NumChar  NumWords  Error\n",
       "0           0  Accipiter albogularis              2      359        56    200\n",
       "1           1       Accipiter badius             35     6188      1023    200\n",
       "2           2      Accipiter bicolor             17     5405       863    200\n",
       "3           3   Accipiter brachyurus              3     1646       278    200\n",
       "4           4     Accipiter brevipes             14     4300       716    200"
      ]
     },
     "execution_count": 3,
     "metadata": {},
     "output_type": "execute_result"
    }
   ],
   "source": [
    "subsetDF_200 = pd.read_csv('../data/subsetSpecies_200.csv')\n",
    "subsetDF_other = pd.read_csv('../data/subsetSpecies_other.csv')\n",
    "\n",
    "subDF = pd.read_csv('../data/subsetSpecies_200.csv')\n",
    "\n",
    "print(subsetDF_200)\n",
    "subsetDF_200.head()\n"
   ]
  },
  {
   "cell_type": "code",
   "execution_count": 31,
   "id": "70bfa701",
   "metadata": {},
   "outputs": [
    {
     "name": "stdout",
     "output_type": "stream",
     "text": [
      "[[   2  359   56]\n",
      " [  35 6188 1023]\n",
      " [  17 5405  863]\n",
      " ...\n",
      " [   6 3201  534]\n",
      " [  13 4426  711]\n",
      " [  17 4900  787]]\n"
     ]
    }
   ],
   "source": [
    "X = subsetDF_200.iloc[:, 2:5].values\n",
    "print(X)"
   ]
  },
  {
   "cell_type": "code",
   "execution_count": 34,
   "id": "97482168",
   "metadata": {},
   "outputs": [
    {
     "name": "stderr",
     "output_type": "stream",
     "text": [
      "C:\\Users\\thien\\anaconda3\\Lib\\site-packages\\sklearn\\cluster\\_kmeans.py:1412: FutureWarning: The default value of `n_init` will change from 10 to 'auto' in 1.4. Set the value of `n_init` explicitly to suppress the warning\n",
      "  super()._check_params_vs_input(X, default_n_init=10)\n",
      "C:\\Users\\thien\\anaconda3\\Lib\\site-packages\\sklearn\\cluster\\_kmeans.py:1412: FutureWarning: The default value of `n_init` will change from 10 to 'auto' in 1.4. Set the value of `n_init` explicitly to suppress the warning\n",
      "  super()._check_params_vs_input(X, default_n_init=10)\n",
      "C:\\Users\\thien\\anaconda3\\Lib\\site-packages\\sklearn\\cluster\\_kmeans.py:1412: FutureWarning: The default value of `n_init` will change from 10 to 'auto' in 1.4. Set the value of `n_init` explicitly to suppress the warning\n",
      "  super()._check_params_vs_input(X, default_n_init=10)\n",
      "C:\\Users\\thien\\anaconda3\\Lib\\site-packages\\sklearn\\cluster\\_kmeans.py:1412: FutureWarning: The default value of `n_init` will change from 10 to 'auto' in 1.4. Set the value of `n_init` explicitly to suppress the warning\n",
      "  super()._check_params_vs_input(X, default_n_init=10)\n",
      "C:\\Users\\thien\\anaconda3\\Lib\\site-packages\\sklearn\\cluster\\_kmeans.py:1412: FutureWarning: The default value of `n_init` will change from 10 to 'auto' in 1.4. Set the value of `n_init` explicitly to suppress the warning\n",
      "  super()._check_params_vs_input(X, default_n_init=10)\n",
      "C:\\Users\\thien\\anaconda3\\Lib\\site-packages\\sklearn\\cluster\\_kmeans.py:1412: FutureWarning: The default value of `n_init` will change from 10 to 'auto' in 1.4. Set the value of `n_init` explicitly to suppress the warning\n",
      "  super()._check_params_vs_input(X, default_n_init=10)\n",
      "C:\\Users\\thien\\anaconda3\\Lib\\site-packages\\sklearn\\cluster\\_kmeans.py:1412: FutureWarning: The default value of `n_init` will change from 10 to 'auto' in 1.4. Set the value of `n_init` explicitly to suppress the warning\n",
      "  super()._check_params_vs_input(X, default_n_init=10)\n",
      "C:\\Users\\thien\\anaconda3\\Lib\\site-packages\\sklearn\\cluster\\_kmeans.py:1412: FutureWarning: The default value of `n_init` will change from 10 to 'auto' in 1.4. Set the value of `n_init` explicitly to suppress the warning\n",
      "  super()._check_params_vs_input(X, default_n_init=10)\n",
      "C:\\Users\\thien\\anaconda3\\Lib\\site-packages\\sklearn\\cluster\\_kmeans.py:1412: FutureWarning: The default value of `n_init` will change from 10 to 'auto' in 1.4. Set the value of `n_init` explicitly to suppress the warning\n",
      "  super()._check_params_vs_input(X, default_n_init=10)\n",
      "C:\\Users\\thien\\anaconda3\\Lib\\site-packages\\sklearn\\cluster\\_kmeans.py:1412: FutureWarning: The default value of `n_init` will change from 10 to 'auto' in 1.4. Set the value of `n_init` explicitly to suppress the warning\n",
      "  super()._check_params_vs_input(X, default_n_init=10)\n"
     ]
    },
    {
     "data": {
      "image/png": "[encoded data removed]",
      "text/plain": [
       "<Figure size 640x480 with 1 Axes>"
      ]
     },
     "metadata": {},
     "output_type": "display_data"
    }
   ],
   "source": [
    "wcss = []\n",
    "for i in range(1,11):\n",
    "    k_means = KMeans(n_clusters=i,init='k-means++', random_state=42)\n",
    "    k_means.fit(X)\n",
    "    wcss.append(k_means.inertia_)\n",
    "#plot elbow curve\n",
    "plt.plot(np.arange(1,11),wcss)\n",
    "plt.xlabel('Clusters')\n",
    "plt.ylabel('SSE')\n",
    "plt.show()"
   ]
  },
  {
   "cell_type": "code",
   "execution_count": 43,
   "id": "7a17d31d",
   "metadata": {},
   "outputs": [
    {
     "name": "stderr",
     "output_type": "stream",
     "text": [
      "C:\\Users\\thien\\anaconda3\\Lib\\site-packages\\sklearn\\cluster\\_kmeans.py:1412: FutureWarning: The default value of `n_init` will change from 10 to 'auto' in 1.4. Set the value of `n_init` explicitly to suppress the warning\n",
      "  super()._check_params_vs_input(X, default_n_init=10)\n"
     ]
    },
    {
     "name": "stdout",
     "output_type": "stream",
     "text": [
      "[0 0 0 ... 0 0 0]\n"
     ]
    }
   ],
   "source": [
    "k_means_optimum = KMeans(n_clusters = 2, init = 'k-means++',  random_state=42)\n",
    "y = k_means_optimum.fit_predict(X)\n",
    "print(y)"
   ]
  },
  {
   "cell_type": "code",
   "execution_count": 39,
   "id": "c5e68493",
   "metadata": {},
   "outputs": [
    {
     "data": {
      "text/html": [
       "<div>\n",
       "<style scoped>\n",
       "    .dataframe tbody tr th:only-of-type {\n",
       "        vertical-align: middle;\n",
       "    }\n",
       "\n",
       "    .dataframe tbody tr th {\n",
       "        vertical-align: top;\n",
       "    }\n",
       "\n",
       "    .dataframe thead th {\n",
       "        text-align: right;\n",
       "    }\n",
       "</style>\n",
       "<table border=\"1\" class=\"dataframe\">\n",
       "  <thead>\n",
       "    <tr style=\"text-align: right;\">\n",
       "      <th></th>\n",
       "      <th>Unnamed: 0</th>\n",
       "      <th>SpeciesName</th>\n",
       "      <th>NumReferences</th>\n",
       "      <th>NumChar</th>\n",
       "      <th>NumWords</th>\n",
       "      <th>Error</th>\n",
       "      <th>cluster</th>\n",
       "    </tr>\n",
       "  </thead>\n",
       "  <tbody>\n",
       "    <tr>\n",
       "      <th>0</th>\n",
       "      <td>0</td>\n",
       "      <td>Accipiter albogularis</td>\n",
       "      <td>2</td>\n",
       "      <td>359</td>\n",
       "      <td>56</td>\n",
       "      <td>200</td>\n",
       "      <td>0</td>\n",
       "    </tr>\n",
       "    <tr>\n",
       "      <th>1</th>\n",
       "      <td>1</td>\n",
       "      <td>Accipiter badius</td>\n",
       "      <td>35</td>\n",
       "      <td>6188</td>\n",
       "      <td>1023</td>\n",
       "      <td>200</td>\n",
       "      <td>0</td>\n",
       "    </tr>\n",
       "    <tr>\n",
       "      <th>2</th>\n",
       "      <td>2</td>\n",
       "      <td>Accipiter bicolor</td>\n",
       "      <td>17</td>\n",
       "      <td>5405</td>\n",
       "      <td>863</td>\n",
       "      <td>200</td>\n",
       "      <td>0</td>\n",
       "    </tr>\n",
       "    <tr>\n",
       "      <th>3</th>\n",
       "      <td>3</td>\n",
       "      <td>Accipiter brachyurus</td>\n",
       "      <td>3</td>\n",
       "      <td>1646</td>\n",
       "      <td>278</td>\n",
       "      <td>200</td>\n",
       "      <td>0</td>\n",
       "    </tr>\n",
       "    <tr>\n",
       "      <th>4</th>\n",
       "      <td>4</td>\n",
       "      <td>Accipiter brevipes</td>\n",
       "      <td>14</td>\n",
       "      <td>4300</td>\n",
       "      <td>716</td>\n",
       "      <td>200</td>\n",
       "      <td>0</td>\n",
       "    </tr>\n",
       "    <tr>\n",
       "      <th>...</th>\n",
       "      <td>...</td>\n",
       "      <td>...</td>\n",
       "      <td>...</td>\n",
       "      <td>...</td>\n",
       "      <td>...</td>\n",
       "      <td>...</td>\n",
       "      <td>...</td>\n",
       "    </tr>\n",
       "    <tr>\n",
       "      <th>8152</th>\n",
       "      <td>8369</td>\n",
       "      <td>Trogon personatus</td>\n",
       "      <td>4</td>\n",
       "      <td>1177</td>\n",
       "      <td>195</td>\n",
       "      <td>200</td>\n",
       "      <td>0</td>\n",
       "    </tr>\n",
       "    <tr>\n",
       "      <th>8153</th>\n",
       "      <td>8370</td>\n",
       "      <td>Trogon rufus</td>\n",
       "      <td>7</td>\n",
       "      <td>2517</td>\n",
       "      <td>405</td>\n",
       "      <td>200</td>\n",
       "      <td>0</td>\n",
       "    </tr>\n",
       "    <tr>\n",
       "      <th>8154</th>\n",
       "      <td>8371</td>\n",
       "      <td>Trogon surrucura</td>\n",
       "      <td>6</td>\n",
       "      <td>3201</td>\n",
       "      <td>534</td>\n",
       "      <td>200</td>\n",
       "      <td>0</td>\n",
       "    </tr>\n",
       "    <tr>\n",
       "      <th>8155</th>\n",
       "      <td>8372</td>\n",
       "      <td>Trogon violaceus</td>\n",
       "      <td>13</td>\n",
       "      <td>4426</td>\n",
       "      <td>711</td>\n",
       "      <td>200</td>\n",
       "      <td>0</td>\n",
       "    </tr>\n",
       "    <tr>\n",
       "      <th>8156</th>\n",
       "      <td>8373</td>\n",
       "      <td>Trogon viridis</td>\n",
       "      <td>17</td>\n",
       "      <td>4900</td>\n",
       "      <td>787</td>\n",
       "      <td>200</td>\n",
       "      <td>0</td>\n",
       "    </tr>\n",
       "  </tbody>\n",
       "</table>\n",
       "<p>8157 rows × 7 columns</p>\n",
       "</div>"
      ],
      "text/plain": [
       "      Unnamed: 0            SpeciesName  NumReferences  NumChar  NumWords  \\\n",
       "0              0  Accipiter albogularis              2      359        56   \n",
       "1              1       Accipiter badius             35     6188      1023   \n",
       "2              2      Accipiter bicolor             17     5405       863   \n",
       "3              3   Accipiter brachyurus              3     1646       278   \n",
       "4              4     Accipiter brevipes             14     4300       716   \n",
       "...          ...                    ...            ...      ...       ...   \n",
       "8152        8369      Trogon personatus              4     1177       195   \n",
       "8153        8370           Trogon rufus              7     2517       405   \n",
       "8154        8371       Trogon surrucura              6     3201       534   \n",
       "8155        8372       Trogon violaceus             13     4426       711   \n",
       "8156        8373         Trogon viridis             17     4900       787   \n",
       "\n",
       "      Error  cluster  \n",
       "0       200        0  \n",
       "1       200        0  \n",
       "2       200        0  \n",
       "3       200        0  \n",
       "4       200        0  \n",
       "...     ...      ...  \n",
       "8152    200        0  \n",
       "8153    200        0  \n",
       "8154    200        0  \n",
       "8155    200        0  \n",
       "8156    200        0  \n",
       "\n",
       "[8157 rows x 7 columns]"
      ]
     },
     "execution_count": 39,
     "metadata": {},
     "output_type": "execute_result"
    }
   ],
   "source": [
    "subsetDF_200['cluster'] = y  \n",
    "subsetDF_200"
   ]
  },
  {
   "cell_type": "code",
   "execution_count": 47,
   "id": "d9e7a909",
   "metadata": {},
   "outputs": [
    {
     "name": "stdout",
     "output_type": "stream",
     "text": [
      "Unnamed: 0       8123\n",
      "SpeciesName      8123\n",
      "NumReferences    8123\n",
      "NumChar          8123\n",
      "NumWords         8123\n",
      "Error            8123\n",
      "cluster          8123\n",
      "dtype: int64\n",
      "Unnamed: 0       34\n",
      "SpeciesName      34\n",
      "NumReferences    34\n",
      "NumChar          34\n",
      "NumWords         34\n",
      "Error            34\n",
      "cluster          34\n",
      "dtype: int64\n"
     ]
    }
   ],
   "source": [
    "data1 = subsetDF_200[subsetDF_200.cluster==0]\n",
    "data2 = subsetDF_200[subsetDF_200.cluster==1]\n",
    "\n",
    "print(data1.count())\n",
    "print(data2.count())"
   ]
  },
  {
   "cell_type": "code",
   "execution_count": 8,
   "id": "a720dafc",
   "metadata": {},
   "outputs": [
    {
     "name": "stderr",
     "output_type": "stream",
     "text": [
      "C:\\Users\\thien\\anaconda3\\Lib\\site-packages\\sklearn\\cluster\\_kmeans.py:1412: FutureWarning: The default value of `n_init` will change from 10 to 'auto' in 1.4. Set the value of `n_init` explicitly to suppress the warning\n",
      "  super()._check_params_vs_input(X, default_n_init=10)\n"
     ]
    },
    {
     "name": "stdout",
     "output_type": "stream",
     "text": [
      "      Unnamed: 0            SpeciesName  NumReferences  NumChar  NumWords  \\\n",
      "0              0  Accipiter albogularis              2      359        56   \n",
      "1              1       Accipiter badius             35     6188      1023   \n",
      "2              2      Accipiter bicolor             17     5405       863   \n",
      "3              3   Accipiter brachyurus              3     1646       278   \n",
      "4              4     Accipiter brevipes             14     4300       716   \n",
      "...          ...                    ...            ...      ...       ...   \n",
      "8152        8369      Trogon personatus              4     1177       195   \n",
      "8153        8370           Trogon rufus              7     2517       405   \n",
      "8154        8371       Trogon surrucura              6     3201       534   \n",
      "8155        8372       Trogon violaceus             13     4426       711   \n",
      "8156        8373         Trogon viridis             17     4900       787   \n",
      "\n",
      "      Error  Cluster  \n",
      "0       200        0  \n",
      "1       200        0  \n",
      "2       200        0  \n",
      "3       200        0  \n",
      "4       200        0  \n",
      "...     ...      ...  \n",
      "8152    200        0  \n",
      "8153    200        0  \n",
      "8154    200        0  \n",
      "8155    200        0  \n",
      "8156    200        0  \n",
      "\n",
      "[8157 rows x 7 columns]\n",
      "\n",
      " \n",
      " \n",
      "\n",
      "Unnamed: 0       8123\n",
      "SpeciesName      8123\n",
      "NumReferences    8123\n",
      "NumChar          8123\n",
      "NumWords         8123\n",
      "Error            8123\n",
      "Cluster          8123\n",
      "dtype: int64\n"
     ]
    }
   ],
   "source": [
    "#clustering\n",
    "features = subDF[[\"NumReferences\", \"NumChar\", \"NumWords\"]]  #columns used for clustering\n",
    "kmeans = KMeans(n_clusters=2, random_state=0).fit(features)  #kmeans clustering\n",
    "#kmeans = KMeans(n_clusters=3, random_state=radSeed)\n",
    "#i am not sure how to use the seed here\n",
    "subDF['Cluster'] = kmeans.labels_    #creates new cluster column in df \n",
    "\n",
    "print(subDF)\n",
    "\n",
    "\n",
    "\n",
    "print(\"\\n \\n \\n\") \n",
    "\n",
    "data0 = subDF[subDF[\"Cluster\"]==0]\n",
    "print(data0.count())\n",
    "\n"
   ]
  },
  {
   "cell_type": "code",
   "execution_count": 5,
   "id": "d90dba1d",
   "metadata": {},
   "outputs": [],
   "source": [
    "subDF.to_csv(\"../data/subsetSpecies_0.csv\")"
   ]
  },
  {
   "cell_type": "code",
   "execution_count": null,
   "id": "2df0c29d",
   "metadata": {},
   "outputs": [],
   "source": []
  }
 ],
 "metadata": {
  "kernelspec": {
   "display_name": "Python 3 (ipykernel)",
   "language": "python",
   "name": "python3"
  },
  "language_info": {
   "codemirror_mode": {
    "name": "ipython",
    "version": 3
   },
   "file_extension": ".py",
   "mimetype": "text/x-python",
   "name": "python",
   "nbconvert_exporter": "python",
   "pygments_lexer": "ipython3",
   "version": "3.11.5"
  }
 },
 "nbformat": 4,
 "nbformat_minor": 5
}
